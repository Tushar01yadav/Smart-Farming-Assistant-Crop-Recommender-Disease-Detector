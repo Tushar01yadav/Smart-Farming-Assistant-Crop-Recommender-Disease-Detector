{
 "cells": [
  {
   "cell_type": "code",
   "execution_count": 1,
   "id": "e5d7b7dc-5797-4362-ac83-ce3b4b81c72a",
   "metadata": {},
   "outputs": [
    {
     "name": "stdout",
     "output_type": "stream",
     "text": [
      "Initialized empty Git repository in C:/Users/HP/PycharmProjects/crop/.git/\n"
     ]
    }
   ],
   "sour